{
  "nbformat": 4,
  "nbformat_minor": 0,
  "metadata": {
    "colab": {
      "name": "XGBoost_logistic_regressor.ipynb",
      "provenance": [],
      "collapsed_sections": [
        "O0Gjv6EEdNd5",
        "8lPgEzoCdbdZ",
        "CRS1xIwkdsKu",
        "wZ5ZiHaWkl2Z",
        "Jz7_z8oBmTd3",
        "ZBae011vmdUQ",
        "pRMDZYVekupY"
      ],
      "toc_visible": true,
      "authorship_tag": "ABX9TyO0EMJdh5zJC7XVkQ6Mky/I",
      "include_colab_link": true
    },
    "kernelspec": {
      "name": "python3",
      "display_name": "Python 3"
    },
    "language_info": {
      "name": "python"
    }
  },
  "cells": [
    {
      "cell_type": "markdown",
      "metadata": {
        "id": "view-in-github",
        "colab_type": "text"
      },
      "source": [
        "<a href=\"https://colab.research.google.com/github/lucacbbi/Projetos_data_science/blob/main/XGBoost_logistic_regressor.ipynb\" target=\"_parent\"><img src=\"https://colab.research.google.com/assets/colab-badge.svg\" alt=\"Open In Colab\"/></a>"
      ]
    },
    {
      "cell_type": "markdown",
      "metadata": {
        "id": "Zg6vYD958zPs"
      },
      "source": [
        "\n",
        "Demonstração do uso do modelo de Machine Learning XGBoost em regressão logistica usando o recurso DMatrix."
      ]
    },
    {
      "cell_type": "markdown",
      "metadata": {
        "id": "O0Gjv6EEdNd5"
      },
      "source": [
        "#**XGBoost-Regressão Logistica**\n",
        "\n",
        "\n",
        "---\n",
        "\n"
      ]
    },
    {
      "cell_type": "markdown",
      "metadata": {
        "id": "CRS1xIwkdsKu"
      },
      "source": [
        "###   Regressão logistica\n",
        "\n",
        "\n",
        "\n",
        "\n"
      ]
    },
    {
      "cell_type": "code",
      "metadata": {
        "id": "z_Q2qyJ6d4Tf"
      },
      "source": [
        "# Bibliotecas\n",
        "import xgboost as xgb\n",
        "import pandas as pd\n",
        "from sklearn.model_selection import train_test_split"
      ],
      "execution_count": 1,
      "outputs": []
    },
    {
      "cell_type": "code",
      "metadata": {
        "colab": {
          "base_uri": "https://localhost:8080/",
          "height": 202
        },
        "id": "kGmQ90Apdkx6",
        "outputId": "867d5013-f4eb-443b-85bc-a715f809718d"
      },
      "source": [
        "# Data set\n",
        "data = pd.read_csv(\"https://github.com/Smolski/livroavancado/raw/master/cdh.csv\",sep=';')\n",
        "data.head()"
      ],
      "execution_count": 2,
      "outputs": [
        {
          "output_type": "execute_result",
          "data": {
            "text/html": [
              "<div>\n",
              "<style scoped>\n",
              "    .dataframe tbody tr th:only-of-type {\n",
              "        vertical-align: middle;\n",
              "    }\n",
              "\n",
              "    .dataframe tbody tr th {\n",
              "        vertical-align: top;\n",
              "    }\n",
              "\n",
              "    .dataframe thead th {\n",
              "        text-align: right;\n",
              "    }\n",
              "</style>\n",
              "<table border=\"1\" class=\"dataframe\">\n",
              "  <thead>\n",
              "    <tr style=\"text-align: right;\">\n",
              "      <th></th>\n",
              "      <th>AGE</th>\n",
              "      <th>AGRP</th>\n",
              "      <th>CHD</th>\n",
              "    </tr>\n",
              "  </thead>\n",
              "  <tbody>\n",
              "    <tr>\n",
              "      <th>0</th>\n",
              "      <td>20</td>\n",
              "      <td>1</td>\n",
              "      <td>0</td>\n",
              "    </tr>\n",
              "    <tr>\n",
              "      <th>1</th>\n",
              "      <td>23</td>\n",
              "      <td>1</td>\n",
              "      <td>0</td>\n",
              "    </tr>\n",
              "    <tr>\n",
              "      <th>2</th>\n",
              "      <td>24</td>\n",
              "      <td>1</td>\n",
              "      <td>0</td>\n",
              "    </tr>\n",
              "    <tr>\n",
              "      <th>3</th>\n",
              "      <td>25</td>\n",
              "      <td>1</td>\n",
              "      <td>0</td>\n",
              "    </tr>\n",
              "    <tr>\n",
              "      <th>4</th>\n",
              "      <td>25</td>\n",
              "      <td>1</td>\n",
              "      <td>1</td>\n",
              "    </tr>\n",
              "  </tbody>\n",
              "</table>\n",
              "</div>"
            ],
            "text/plain": [
              "   AGE  AGRP  CHD\n",
              "0   20     1    0\n",
              "1   23     1    0\n",
              "2   24     1    0\n",
              "3   25     1    0\n",
              "4   25     1    1"
            ]
          },
          "metadata": {
            "tags": []
          },
          "execution_count": 2
        }
      ]
    },
    {
      "cell_type": "code",
      "metadata": {
        "id": "H5NzDvXXfB-M"
      },
      "source": [
        "# data train test and data set of predict\n",
        "train,test = train_test_split(data, test_size = 0.2,random_state = 1982)"
      ],
      "execution_count": 3,
      "outputs": []
    },
    {
      "cell_type": "code",
      "metadata": {
        "colab": {
          "base_uri": "https://localhost:8080/"
        },
        "id": "I08tsoepkbwV",
        "outputId": "ae5fd2f1-90a4-464b-b462-6897980bc5bb"
      },
      "source": [
        "test.drop(['CHD'],inplace=True,axis=1)"
      ],
      "execution_count": 4,
      "outputs": [
        {
          "output_type": "stream",
          "text": [
            "/usr/local/lib/python3.7/dist-packages/pandas/core/frame.py:4174: SettingWithCopyWarning: \n",
            "A value is trying to be set on a copy of a slice from a DataFrame\n",
            "\n",
            "See the caveats in the documentation: https://pandas.pydata.org/pandas-docs/stable/user_guide/indexing.html#returning-a-view-versus-a-copy\n",
            "  errors=errors,\n"
          ],
          "name": "stderr"
        }
      ]
    },
    {
      "cell_type": "code",
      "metadata": {
        "id": "9PVncjbOeyvo"
      },
      "source": [
        "X = train[['AGE','AGRP']]\n",
        "Y = train[['CHD']]"
      ],
      "execution_count": 5,
      "outputs": []
    },
    {
      "cell_type": "code",
      "metadata": {
        "id": "ikAfMzmke1rp"
      },
      "source": [
        "x_train, x_eval, y_train, y_eval = train_test_split(X, Y, test_size = 0.2,random_state = 1982)"
      ],
      "execution_count": 6,
      "outputs": []
    },
    {
      "cell_type": "code",
      "metadata": {
        "id": "JbULGdwKeaRU"
      },
      "source": [
        "xgtrain = xgb.DMatrix(x_train, label = y_train)\n",
        "xgval = xgb.DMatrix(x_eval, label = y_eval) \n",
        "xgtest = xgb.DMatrix(test)"
      ],
      "execution_count": 7,
      "outputs": []
    },
    {
      "cell_type": "code",
      "metadata": {
        "id": "gP40IzmqfLiN"
      },
      "source": [
        "watchlist = [(xgtrain,'train'),(xgval, 'eval')]"
      ],
      "execution_count": 8,
      "outputs": []
    },
    {
      "cell_type": "code",
      "metadata": {
        "id": "Yi2H0yjUdkXV"
      },
      "source": [
        "# Prametros\n",
        "params={\n",
        "\"objective\":\"binary:logistic\",\n",
        "\"booster\":\"gbtree\",\n",
        "\"max_depth\":7,\n",
        "\"eval_metric\":'auc',\n",
        "\"subsample\":0.8,\n",
        "\"colsample_bytree\": 0.8,\n",
        "\"silent\":1,\n",
        "\"seed\":4,\n",
        "\"eta\":0.1,\n",
        "}"
      ],
      "execution_count": 9,
      "outputs": []
    },
    {
      "cell_type": "code",
      "metadata": {
        "colab": {
          "base_uri": "https://localhost:8080/"
        },
        "id": "DK1-hAlZdkC6",
        "outputId": "00ced599-f6ca-48da-cc80-f49ef419cda5"
      },
      "source": [
        "# Modelo\n",
        "num_rounds = 500\n",
        "model_cv = xgb.train(params, xgtrain, num_rounds, evals = watchlist, early_stopping_rounds = 100, verbose_eval = True)"
      ],
      "execution_count": 10,
      "outputs": [
        {
          "output_type": "stream",
          "text": [
            "[0]\ttrain-auc:0.785784\teval-auc:0.846154\n",
            "Multiple eval metrics have been passed: 'eval-auc' will be used for early stopping.\n",
            "\n",
            "Will train until eval-auc hasn't improved in 100 rounds.\n",
            "[1]\ttrain-auc:0.808824\teval-auc:0.884615\n",
            "[2]\ttrain-auc:0.808824\teval-auc:0.884615\n",
            "[3]\ttrain-auc:0.816667\teval-auc:0.884615\n",
            "[4]\ttrain-auc:0.816667\teval-auc:0.884615\n",
            "[5]\ttrain-auc:0.821569\teval-auc:0.884615\n",
            "[6]\ttrain-auc:0.821569\teval-auc:0.884615\n",
            "[7]\ttrain-auc:0.82549\teval-auc:0.884615\n",
            "[8]\ttrain-auc:0.82451\teval-auc:0.884615\n",
            "[9]\ttrain-auc:0.82451\teval-auc:0.884615\n",
            "[10]\ttrain-auc:0.840196\teval-auc:0.858974\n",
            "[11]\ttrain-auc:0.840196\teval-auc:0.858974\n",
            "[12]\ttrain-auc:0.840196\teval-auc:0.858974\n",
            "[13]\ttrain-auc:0.840196\teval-auc:0.858974\n",
            "[14]\ttrain-auc:0.840196\teval-auc:0.858974\n",
            "[15]\ttrain-auc:0.840196\teval-auc:0.858974\n",
            "[16]\ttrain-auc:0.840196\teval-auc:0.858974\n",
            "[17]\ttrain-auc:0.840196\teval-auc:0.858974\n",
            "[18]\ttrain-auc:0.844608\teval-auc:0.858974\n",
            "[19]\ttrain-auc:0.845098\teval-auc:0.858974\n",
            "[20]\ttrain-auc:0.845098\teval-auc:0.858974\n",
            "[21]\ttrain-auc:0.845098\teval-auc:0.858974\n",
            "[22]\ttrain-auc:0.844118\teval-auc:0.858974\n",
            "[23]\ttrain-auc:0.844118\teval-auc:0.833333\n",
            "[24]\ttrain-auc:0.845098\teval-auc:0.833333\n",
            "[25]\ttrain-auc:0.847549\teval-auc:0.820513\n",
            "[26]\ttrain-auc:0.848529\teval-auc:0.794872\n",
            "[27]\ttrain-auc:0.848529\teval-auc:0.794872\n",
            "[28]\ttrain-auc:0.847549\teval-auc:0.820513\n",
            "[29]\ttrain-auc:0.85049\teval-auc:0.820513\n",
            "[30]\ttrain-auc:0.85049\teval-auc:0.820513\n",
            "[31]\ttrain-auc:0.85049\teval-auc:0.820513\n",
            "[32]\ttrain-auc:0.85049\teval-auc:0.820513\n",
            "[33]\ttrain-auc:0.84951\teval-auc:0.846154\n",
            "[34]\ttrain-auc:0.848529\teval-auc:0.820513\n",
            "[35]\ttrain-auc:0.85049\teval-auc:0.820513\n",
            "[36]\ttrain-auc:0.851471\teval-auc:0.846154\n",
            "[37]\ttrain-auc:0.851471\teval-auc:0.846154\n",
            "[38]\ttrain-auc:0.851471\teval-auc:0.846154\n",
            "[39]\ttrain-auc:0.851471\teval-auc:0.846154\n",
            "[40]\ttrain-auc:0.851471\teval-auc:0.846154\n",
            "[41]\ttrain-auc:0.851471\teval-auc:0.846154\n",
            "[42]\ttrain-auc:0.851471\teval-auc:0.846154\n",
            "[43]\ttrain-auc:0.851471\teval-auc:0.846154\n",
            "[44]\ttrain-auc:0.851471\teval-auc:0.846154\n",
            "[45]\ttrain-auc:0.851471\teval-auc:0.846154\n",
            "[46]\ttrain-auc:0.851471\teval-auc:0.846154\n",
            "[47]\ttrain-auc:0.851471\teval-auc:0.846154\n",
            "[48]\ttrain-auc:0.851471\teval-auc:0.846154\n",
            "[49]\ttrain-auc:0.851471\teval-auc:0.846154\n",
            "[50]\ttrain-auc:0.851471\teval-auc:0.846154\n",
            "[51]\ttrain-auc:0.851471\teval-auc:0.846154\n",
            "[52]\ttrain-auc:0.851471\teval-auc:0.846154\n",
            "[53]\ttrain-auc:0.851471\teval-auc:0.846154\n",
            "[54]\ttrain-auc:0.851471\teval-auc:0.846154\n",
            "[55]\ttrain-auc:0.85049\teval-auc:0.846154\n",
            "[56]\ttrain-auc:0.852451\teval-auc:0.846154\n",
            "[57]\ttrain-auc:0.851471\teval-auc:0.846154\n",
            "[58]\ttrain-auc:0.851471\teval-auc:0.846154\n",
            "[59]\ttrain-auc:0.851471\teval-auc:0.846154\n",
            "[60]\ttrain-auc:0.851471\teval-auc:0.846154\n",
            "[61]\ttrain-auc:0.851471\teval-auc:0.846154\n",
            "[62]\ttrain-auc:0.851471\teval-auc:0.846154\n",
            "[63]\ttrain-auc:0.851471\teval-auc:0.846154\n",
            "[64]\ttrain-auc:0.851471\teval-auc:0.846154\n",
            "[65]\ttrain-auc:0.851471\teval-auc:0.846154\n",
            "[66]\ttrain-auc:0.851471\teval-auc:0.846154\n",
            "[67]\ttrain-auc:0.851471\teval-auc:0.846154\n",
            "[68]\ttrain-auc:0.85049\teval-auc:0.846154\n",
            "[69]\ttrain-auc:0.851471\teval-auc:0.846154\n",
            "[70]\ttrain-auc:0.851471\teval-auc:0.846154\n",
            "[71]\ttrain-auc:0.852451\teval-auc:0.846154\n",
            "[72]\ttrain-auc:0.852451\teval-auc:0.846154\n",
            "[73]\ttrain-auc:0.851471\teval-auc:0.846154\n",
            "[74]\ttrain-auc:0.85049\teval-auc:0.846154\n",
            "[75]\ttrain-auc:0.85049\teval-auc:0.846154\n",
            "[76]\ttrain-auc:0.851471\teval-auc:0.846154\n",
            "[77]\ttrain-auc:0.851471\teval-auc:0.846154\n",
            "[78]\ttrain-auc:0.853431\teval-auc:0.846154\n",
            "[79]\ttrain-auc:0.853431\teval-auc:0.846154\n",
            "[80]\ttrain-auc:0.853431\teval-auc:0.846154\n",
            "[81]\ttrain-auc:0.853431\teval-auc:0.846154\n",
            "[82]\ttrain-auc:0.853431\teval-auc:0.846154\n",
            "[83]\ttrain-auc:0.853431\teval-auc:0.846154\n",
            "[84]\ttrain-auc:0.853431\teval-auc:0.846154\n",
            "[85]\ttrain-auc:0.853431\teval-auc:0.846154\n",
            "[86]\ttrain-auc:0.855392\teval-auc:0.846154\n",
            "[87]\ttrain-auc:0.857353\teval-auc:0.846154\n",
            "[88]\ttrain-auc:0.858333\teval-auc:0.846154\n",
            "[89]\ttrain-auc:0.856373\teval-auc:0.846154\n",
            "[90]\ttrain-auc:0.857353\teval-auc:0.846154\n",
            "[91]\ttrain-auc:0.856373\teval-auc:0.846154\n",
            "[92]\ttrain-auc:0.855392\teval-auc:0.846154\n",
            "[93]\ttrain-auc:0.855392\teval-auc:0.846154\n",
            "[94]\ttrain-auc:0.855392\teval-auc:0.846154\n",
            "[95]\ttrain-auc:0.854412\teval-auc:0.846154\n",
            "[96]\ttrain-auc:0.853431\teval-auc:0.846154\n",
            "[97]\ttrain-auc:0.853431\teval-auc:0.846154\n",
            "[98]\ttrain-auc:0.854412\teval-auc:0.846154\n",
            "[99]\ttrain-auc:0.856373\teval-auc:0.846154\n",
            "[100]\ttrain-auc:0.856373\teval-auc:0.846154\n",
            "[101]\ttrain-auc:0.856373\teval-auc:0.846154\n",
            "Stopping. Best iteration:\n",
            "[1]\ttrain-auc:0.808824\teval-auc:0.884615\n",
            "\n"
          ],
          "name": "stdout"
        }
      ]
    },
    {
      "cell_type": "code",
      "metadata": {
        "id": "489kZ-59eL66"
      },
      "source": [
        "# Predict\n",
        "testxg_pred = model_cv.predict(xgtest)"
      ],
      "execution_count": 11,
      "outputs": []
    },
    {
      "cell_type": "code",
      "metadata": {
        "colab": {
          "base_uri": "https://localhost:8080/"
        },
        "id": "TahxultueL3c",
        "outputId": "b31cc6a2-4c07-4b2f-9ab9-a02a60496308"
      },
      "source": [
        "testxg_pred"
      ],
      "execution_count": 12,
      "outputs": [
        {
          "output_type": "execute_result",
          "data": {
            "text/plain": [
              "array([0.1503122 , 0.18964732, 0.5159481 , 0.53204405, 0.53204405,\n",
              "       0.84266883, 0.94237167, 0.40842342, 0.1503122 , 0.94237167,\n",
              "       0.13086687, 0.9395609 , 0.18964732, 0.41752174, 0.5982251 ,\n",
              "       0.84890306, 0.9338905 , 0.2724657 , 0.84890306, 0.7833047 ],\n",
              "      dtype=float32)"
            ]
          },
          "metadata": {
            "tags": []
          },
          "execution_count": 12
        }
      ]
    },
    {
      "cell_type": "markdown",
      "metadata": {
        "id": "EfLOP9gn0KKe"
      },
      "source": [
        ""
      ]
    }
  ]
}