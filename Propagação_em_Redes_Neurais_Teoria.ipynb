{
  "nbformat": 4,
  "nbformat_minor": 0,
  "metadata": {
    "colab": {
      "name": "Propagação em Redes Neurais Teoria.ipynb",
      "provenance": [],
      "collapsed_sections": [],
      "authorship_tag": "ABX9TyNBRbob1aVr90IIlfKbGMEi",
      "include_colab_link": true
    },
    "kernelspec": {
      "name": "python3",
      "display_name": "Python 3"
    },
    "language_info": {
      "name": "python"
    }
  },
  "cells": [
    {
      "cell_type": "markdown",
      "metadata": {
        "id": "view-in-github",
        "colab_type": "text"
      },
      "source": [
        "<a href=\"https://colab.research.google.com/github/lucacbbi/Projetos_data_science/blob/main/Propaga%C3%A7%C3%A3o_em_Redes_Neurais_Teoria.ipynb\" target=\"_parent\"><img src=\"https://colab.research.google.com/assets/colab-badge.svg\" alt=\"Open In Colab\"/></a>"
      ]
    },
    {
      "cell_type": "markdown",
      "metadata": {
        "id": "8NqOZpE65FmE"
      },
      "source": [
        "O preditor $\\hat{y}$ é obtido (neste caso) a partir da ativação de $z=w^T x + b$ pela função sigmóide. Tudo isso fica assim:\n",
        "\n",
        "$$\n",
        "\\hat{y} = \\sigma(z) = \\sigma(w^T x + b) = \\frac{1}{1 + e^{-z}}\n",
        "$$\n",
        "\n",
        "> *Note que eu substitui o símbolo $\\theta$, usado na última aula, por $w$. Estou menos preocupado com o rigor matemático e exatidão da forma que com o aprendizado efetivo.*\n",
        "\n",
        "\n",
        "Também entendemos que, dado um conjunto de amostras de treinamento $\\{ (x^{(1)}, y^{(1)}), (x^{(2)}, y^{(2)}), \\dots, (x^{(m)}, y^{(m)}) \\}$, queremos obter $\\hat{y}^{(i)} \\approx y^{(i)}$.\n",
        "\n",
        "Seguindo a notação matemática de usar o índice $i$ sobrescrito para representa a *i-nésima* amostra, pode-se generalizar;\n",
        "\n",
        "$$\n",
        "\\hat{y}^{(i)} = \\sigma(z^{(i)}) = \\frac{1}{1 + e^{-z^{(i)}}}\n",
        "$$\n",
        "\n",
        "#### 2. *Cost Function*\n",
        "\n",
        "\n",
        "**Como saber se nosso algoritmo está indo bem**\n",
        "\n",
        "A primeira coisa que temos que mensurar é o quão distante estamos da solução correta. \n",
        "\n",
        "Este é um problema de regressão logística. Se você está mais familiarizado com Cálculo, sabe que cairíamos em um espaço de soluções não-convexo. Na prática, teríamos vários ótimos locais, fazendo com que o *Gradient Descent* não funcione bem.\n",
        "\n",
        "Para trabalhar um problema de otimização convexo, utilizamos a seguinte *Loss Function*:\n",
        "\n",
        "$\\mathcal{L}(\\hat{y}, y) = - (y \\log \\hat{y} + (1 - y)log(1 - \\hat{y}))$\n",
        "\n",
        "*Loss function* é quando aplicamos $\\mathcal{L}$ a uma amostra. \n",
        "\n",
        "***Cost Function***  é quando consideramos todo o *dataset*, e queremos obter o custo do erro das previsões: \n",
        "\n",
        "$$\n",
        "J(w, b) = \\frac{1}{m} \\sum_{i=1}^{m}\\mathcal{L}(\\hat{y}^{(i)}, y^{(i)}) \\\\\n",
        "J(w, b) = - \\frac{1}{m} \\sum_{i=1}^{m} [y^{(i)} \\log \\hat{y}^{(i)} + (1 - y^{(i)})log(1 - \\hat{y}^{(i)})]\n",
        "$$\n"
      ]
    },
    {
      "cell_type": "code",
      "metadata": {
        "id": "rq3kU-0WvA_N"
      },
      "source": [
        "import h5py\n",
        "import numpy as np\n",
        "import matplotlib.pyplot as plt"
      ],
      "execution_count": 1,
      "outputs": []
    },
    {
      "cell_type": "code",
      "metadata": {
        "id": "ak3M4iqRvQ6-"
      },
      "source": [
        "compras = np.array([[1,2,3],\n",
        "                   [0,3,4],\n",
        "                   [2,5,6]])\n",
        "\n",
        "preco = np.array([10,20,30]).reshape(1,-1)"
      ],
      "execution_count": 2,
      "outputs": []
    },
    {
      "cell_type": "code",
      "metadata": {
        "colab": {
          "base_uri": "https://localhost:8080/"
        },
        "id": "IZ8N7upWxA0f",
        "outputId": "2a2a5b2a-555c-4b88-b8c0-5d24985622cc"
      },
      "source": [
        "preco[0][1]"
      ],
      "execution_count": 3,
      "outputs": [
        {
          "output_type": "execute_result",
          "data": {
            "text/plain": [
              "20"
            ]
          },
          "metadata": {
            "tags": []
          },
          "execution_count": 3
        }
      ]
    },
    {
      "cell_type": "code",
      "metadata": {
        "colab": {
          "base_uri": "https://localhost:8080/"
        },
        "id": "9Xt8QPwW07rh",
        "outputId": "0ad461da-4cc8-4f2c-9115-b30eeb91b7ba"
      },
      "source": [
        "preco*compras"
      ],
      "execution_count": 4,
      "outputs": [
        {
          "output_type": "execute_result",
          "data": {
            "text/plain": [
              "array([[ 10,  40,  90],\n",
              "       [  0,  60, 120],\n",
              "       [ 20, 100, 180]])"
            ]
          },
          "metadata": {
            "tags": []
          },
          "execution_count": 4
        }
      ]
    },
    {
      "cell_type": "code",
      "metadata": {
        "colab": {
          "base_uri": "https://localhost:8080/"
        },
        "id": "Akhe_j2p1nyO",
        "outputId": "83d77ffc-4d07-4fd6-a72b-0cc0ee9056c9"
      },
      "source": [
        "np.dot(preco, compras.T)"
      ],
      "execution_count": 5,
      "outputs": [
        {
          "output_type": "execute_result",
          "data": {
            "text/plain": [
              "array([[140, 180, 300]])"
            ]
          },
          "metadata": {
            "tags": []
          },
          "execution_count": 5
        }
      ]
    },
    {
      "cell_type": "code",
      "metadata": {
        "colab": {
          "base_uri": "https://localhost:8080/"
        },
        "id": "N4WVXpx0wLah",
        "outputId": "70a8fc1e-6022-45bb-faca-1b94f9d66dc5"
      },
      "source": [
        "for i,j in enumerate(compras):\n",
        "    #cliente\n",
        "    total = 0\n",
        "    print('\\nCliente {}'.format(i))\n",
        "    for i,j in enumerate(j):\n",
        "      total +=j*preco[0][i]\n",
        "      print('Preço: {}'.format(j*preco[0][i]))\n",
        "    print('Total:',total)  "
      ],
      "execution_count": 6,
      "outputs": [
        {
          "output_type": "stream",
          "text": [
            "\n",
            "Cliente 0\n",
            "Preço: 10\n",
            "Preço: 40\n",
            "Preço: 90\n",
            "Total: 140\n",
            "\n",
            "Cliente 1\n",
            "Preço: 0\n",
            "Preço: 60\n",
            "Preço: 120\n",
            "Total: 180\n",
            "\n",
            "Cliente 2\n",
            "Preço: 20\n",
            "Preço: 100\n",
            "Preço: 180\n",
            "Total: 300\n"
          ],
          "name": "stdout"
        }
      ]
    },
    {
      "cell_type": "code",
      "metadata": {
        "id": "8JpaKHcz0Ucv"
      },
      "source": [
        "# download do dataset cat vs non-cat\n",
        "!wget -q https://raw.githubusercontent.com/carlosfab/escola-data-science/master/datasets/catvsnoncat/train_catvnoncat.h5\n",
        "!wget -q https://raw.githubusercontent.com/carlosfab/escola-data-science/master/datasets/catvsnoncat/test_catvnoncat.h5\n",
        "# Importar os dados do arquivo .h5\n",
        "train_dataset = h5py.File('train_catvnoncat.h5', 'r')\n",
        "test_dataset = h5py.File('test_catvnoncat.h5', 'r')\n",
        "# dados de treino\n",
        "train_x = np.array(train_dataset['train_set_x'][:])\n",
        "train_y = np.array(train_dataset['train_set_y'][:])\n",
        "\n",
        "# dados de teste\n",
        "test_x = np.array(test_dataset['test_set_x'][:])\n",
        "test_y = np.array(test_dataset['test_set_y'][:])"
      ],
      "execution_count": 7,
      "outputs": []
    },
    {
      "cell_type": "code",
      "metadata": {
        "colab": {
          "base_uri": "https://localhost:8080/",
          "height": 518
        },
        "id": "keqVK1uz18yt",
        "outputId": "6076f77f-e3e8-4a9b-db74-f5e1f90952f2"
      },
      "source": [
        "# ver o exemplo de uma imagem cat vs non-cat\n",
        "idx_cat = np.where(train_y == 1)[0][0]\n",
        "idx_noncat = np.where(train_y == 0)[0][0]\n",
        "\n",
        "plt.imshow(train_x[idx_cat])\n",
        "plt.show()\n",
        "plt.imshow(train_x[idx_noncat])\n",
        "plt.show()"
      ],
      "execution_count": 8,
      "outputs": [
        {
          "output_type": "display_data",
          "data": {
            "image/png": "[encoded data removed]",
            "text/plain": [
              "<Figure size 432x288 with 1 Axes>"
            ]
          },
          "metadata": {
            "tags": [],
            "needs_background": "light"
          }
        },
        {
          "output_type": "display_data",
          "data": {
            "image/png": "[encoded data removed]",
            "text/plain": [
              "<Figure size 432x288 with 1 Axes>"
            ]
          },
          "metadata": {
            "tags": [],
            "needs_background": "light"
          }
        }
      ]
    },
    {
      "cell_type": "code",
      "metadata": {
        "colab": {
          "base_uri": "https://localhost:8080/"
        },
        "id": "oVP7pED9LUJr",
        "outputId": "86d6ce28-beaa-4f3b-ee51-b159f64bdf0c"
      },
      "source": [
        "# Shape\n",
        "for _,s in enumerate([train_x,train_y,test_x,test_y]):\n",
        "  print(s.shape)"
      ],
      "execution_count": 9,
      "outputs": [
        {
          "output_type": "stream",
          "text": [
            "(209, 64, 64, 3)\n",
            "(209,)\n",
            "(50, 64, 64, 3)\n",
            "(50,)\n"
          ],
          "name": "stdout"
        }
      ]
    },
    {
      "cell_type": "code",
      "metadata": {
        "id": "Jhno9tEKOlV-"
      },
      "source": [
        "amostras_train = train_x.shape[0]\n",
        "amostras_test = test_x.shape[0]"
      ],
      "execution_count": 10,
      "outputs": []
    },
    {
      "cell_type": "code",
      "metadata": {
        "id": "hGTkTY-YOUzB"
      },
      "source": [
        "train_x_fatten=train_x.reshape(amostras_train,-1).T\n",
        "train_y_fatten=train_y.reshape(amostras_train,-1).T\n",
        "test_x_fatten=test_x.reshape(amostras_test,-1).T\n",
        "test_y_fatten=test_y.reshape(amostras_test,-1).T"
      ],
      "execution_count": 11,
      "outputs": []
    },
    {
      "cell_type": "code",
      "metadata": {
        "colab": {
          "base_uri": "https://localhost:8080/"
        },
        "id": "MbhfW0RjPB1H",
        "outputId": "f6df9630-ea48-4599-c322-75410c3e80ad"
      },
      "source": [
        "# Shape\n",
        "for _,s in enumerate([train_x_fatten,train_y_fatten,test_x_fatten,test_y_fatten]):\n",
        "  print(s.shape)"
      ],
      "execution_count": 12,
      "outputs": [
        {
          "output_type": "stream",
          "text": [
            "(12288, 209)\n",
            "(1, 209)\n",
            "(12288, 50)\n",
            "(1, 50)\n"
          ],
          "name": "stdout"
        }
      ]
    },
    {
      "cell_type": "code",
      "metadata": {
        "id": "WEnWducJPGzQ"
      },
      "source": [
        "train_x_fatten=train_x_fatten /255\n",
        "train_y_fatten=train_y_fatten /255\n"
      ],
      "execution_count": 13,
      "outputs": []
    },
    {
      "cell_type": "code",
      "metadata": {
        "id": "4PA4_fRPQGXE"
      },
      "source": [
        "def propagate(X,Y):\n",
        "  m = X.shape[1]\n",
        "\n",
        "  w = np.zeros((X.shape[0],1))\n",
        "  b = 0\n",
        "\n",
        "  z = np.dot(w.T,X) + b\n",
        "  \n",
        "  A = 1/(1 + np.exp(-z))\n",
        "\n",
        "  coast = (-1/m)*np.sum(Y*np.log(A)+(1-Y)*np.log(1-A))\n",
        "\n",
        "  return coast"
      ],
      "execution_count": 14,
      "outputs": []
    },
    {
      "cell_type": "code",
      "metadata": {
        "colab": {
          "base_uri": "https://localhost:8080/"
        },
        "id": "W58TqA7CTy4q",
        "outputId": "b2d3fef0-cd98-43be-b7cf-7088c8348093"
      },
      "source": [
        "X, Y =  np.array([[1,2], [3,4]]) , np.array([[1, 0]])\n",
        "cost = propagate(X, Y)\n",
        "print (\"cost =\", cost)"
      ],
      "execution_count": 15,
      "outputs": [
        {
          "output_type": "stream",
          "text": [
            "cost = 0.6931471805599453\n"
          ],
          "name": "stdout"
        }
      ]
    }
  ]
}